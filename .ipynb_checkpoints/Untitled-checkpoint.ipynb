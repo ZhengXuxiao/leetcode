{
 "cells": [
  {
   "cell_type": "markdown",
   "metadata": {},
   "source": [
    "Given an unsorted integer array, find the first missing positive integer.\n",
    "\n",
    "For example,\n",
    "Given [1,2,0] return 3,\n",
    "and [3,4,-1,1] return 2.\n",
    "\n",
    "Your algorithm should run in O(n) time and uses constant space.\n",
    "\n",
    "Subscribe to see which companies asked this question"
   ]
  },
  {
   "cell_type": "code",
   "execution_count": 5,
   "metadata": {
    "collapsed": false
   },
   "outputs": [],
   "source": [
    "class Solution(object):\n",
    "    def firstMissingPositive(self, nums):\n",
    "        \"\"\"\n",
    "        :type nums: List[int]\n",
    "        :rtype: int\n",
    "        \"\"\"\n",
    "        j = len(nums)\n",
    "        i = 0\n",
    "        loc = -1\n",
    "        while i < j:\n",
    "            if nums[i] <= 0 or nums[i] > j:\n",
    "                nums.pop(i)\n",
    "                j -= 1\n",
    "            else:   \n",
    "                l = nums[i] - 1\n",
    "                if i+1 == nums[i]:\n",
    "                    i += 1\n",
    "                else:\n",
    "                    if nums[l] == nums[i]:\n",
    "                        nums[i] = nums[j-1]\n",
    "                        nums.pop(j-1)\n",
    "                        j -= 1\n",
    "                    else:\n",
    "                        tmp = nums[l]\n",
    "                        nums[l] = nums[i]\n",
    "                        nums[i] = tmp\n",
    "            print nums\n",
    "\n",
    "        return i+1"
   ]
  },
  {
   "cell_type": "code",
   "execution_count": 6,
   "metadata": {
    "collapsed": false
   },
   "outputs": [
    {
     "name": "stdout",
     "output_type": "stream",
     "text": [
      "[1, 2, 0]\n",
      "[1, 2, 0]\n",
      "[1, 2]\n",
      "3\n",
      "[1, 1]\n",
      "[1]\n",
      "2\n",
      "[-1, 4, 3, 1]\n",
      "[4, 3, 1]\n",
      "[3, 1]\n",
      "[1]\n",
      "[1]\n",
      "2\n"
     ]
    }
   ],
   "source": [
    "solve = Solution()\n",
    "print solve.firstMissingPositive([1,2,0])\n",
    "print solve.firstMissingPositive([1,1])\n",
    "print solve.firstMissingPositive([3,4,-1,1])"
   ]
  },
  {
   "cell_type": "code",
   "execution_count": 13,
   "metadata": {
    "collapsed": false
   },
   "outputs": [],
   "source": [
    "a = [8,3,1,2,5,6,7]"
   ]
  },
  {
   "cell_type": "code",
   "execution_count": null,
   "metadata": {
    "collapsed": true
   },
   "outputs": [],
   "source": []
  }
 ],
 "metadata": {
  "kernelspec": {
   "display_name": "Python 2",
   "language": "python",
   "name": "python2"
  },
  "language_info": {
   "codemirror_mode": {
    "name": "ipython",
    "version": 2
   },
   "file_extension": ".py",
   "mimetype": "text/x-python",
   "name": "python",
   "nbconvert_exporter": "python",
   "pygments_lexer": "ipython2",
   "version": "2.7.10"
  }
 },
 "nbformat": 4,
 "nbformat_minor": 0
}
