{
 "cells": [
  {
   "cell_type": "markdown",
   "metadata": {},
   "source": [
    "#41. First Missing Positive\n",
    "\n",
    "Given an unsorted integer array, find the first missing positive integer.\n",
    "\n",
    "For example,\n",
    "Given [1,2,0] return 3,\n",
    "and [3,4,-1,1] return 2.\n",
    "\n",
    "Your algorithm should run in O(n) time and uses constant space.\n"
   ]
  },
  {
   "cell_type": "code",
   "execution_count": 5,
   "metadata": {
    "collapsed": false
   },
   "outputs": [],
   "source": [
    "class Solution(object):\n",
    "    def firstMissingPositive(self, nums):\n",
    "        \"\"\"\n",
    "        :type nums: List[int]\n",
    "        :rtype: int\n",
    "        \"\"\"\n",
    "        j = len(nums)\n",
    "        i = 0\n",
    "        loc = -1\n",
    "        while i < j:\n",
    "            if nums[i] <= 0 or nums[i] > j:\n",
    "                nums.pop(i)\n",
    "                j -= 1\n",
    "            else:   \n",
    "                l = nums[i] - 1\n",
    "                if i+1 == nums[i]:\n",
    "                    i += 1\n",
    "                else:\n",
    "                    if nums[l] == nums[i]:\n",
    "                        nums[i] = nums[j-1]\n",
    "                        nums.pop(j-1)\n",
    "                        j -= 1\n",
    "                    else:\n",
    "                        num[l],num[i] = nums[i],nums[l]\n",
    "#                        tmp = nums[l]\n",
    "#                        nums[l] = nums[i]\n",
    "#                        nums[i] = tmp\n",
    "        return i+1"
   ]
  },
  {
   "cell_type": "code",
   "execution_count": 6,
   "metadata": {
    "collapsed": false
   },
   "outputs": [
    {
     "name": "stdout",
     "output_type": "stream",
     "text": [
      "[1, 2, 0]\n",
      "[1, 2, 0]\n",
      "[1, 2]\n",
      "3\n",
      "[1, 1]\n",
      "[1]\n",
      "2\n",
      "[-1, 4, 3, 1]\n",
      "[4, 3, 1]\n",
      "[3, 1]\n",
      "[1]\n",
      "[1]\n",
      "2\n"
     ]
    }
   ],
   "source": [
    "solve = Solution()\n",
    "print solve.firstMissingPositive([1,2,0])\n",
    "print solve.firstMissingPositive([1,1])\n",
    "print solve.firstMissingPositive([3,4,-1,1])"
   ]
  },
  {
   "cell_type": "markdown",
   "metadata": {
    "collapsed": true
   },
   "source": [
    "#93. Restore IP Addresses\n",
    "\n",
    "Given a string containing only digits, restore it by returning all possible valid IP address combinations.\n",
    "\n",
    "For example:\n",
    "Given \"25525511135\",\n",
    "\n",
    "return [\"255.255.11.135\", \"255.255.111.35\"]. (Order does not matter)"
   ]
  },
  {
   "cell_type": "code",
   "execution_count": 57,
   "metadata": {
    "collapsed": true
   },
   "outputs": [],
   "source": [
    "#import copy\n",
    "class Solution(object):\n",
    "    def splitIp(self,s,k,i):\n",
    "        n = 3-k\n",
    "        s_len = len(s)\n",
    "        max_digits = 3 if s_len-3 > n else s_len-n\n",
    "        min_digits = 1 if s_len-1 < 3*n else s_len-3*n\n",
    "#        print i,min_digits,max_digits,int(s[:i]),s\n",
    "        if i >= min_digits and i <= max_digits and int(s[:i]) <= 255:\n",
    "            if s[0] == '0' and len(s[:i]) > 1:\n",
    "                return False\n",
    "            else:\n",
    "                return True\n",
    "        else:\n",
    "            return False\n",
    "        \n",
    "    def List2IpAddresse(self,s,IP_digits):\n",
    "        IpAddresse = ''\n",
    "        start = 0\n",
    "        for interval in IP_digits:\n",
    "            IpAddresse += str(s[start:start+interval]) + '.'\n",
    "            start += interval\n",
    "        return IpAddresse[:-1]\n",
    "\n",
    "    def restoreIpAddresses(self, s):\n",
    "        \"\"\"\n",
    "        :type s: str\n",
    "        :rtype: List[str]\n",
    "        \"\"\"\n",
    "        k = 0\n",
    "        x = [0,0,0,0]\n",
    "        IP_list = []\n",
    "        i = 1\n",
    "        while k >= 0:\n",
    "            while i < 4 and (not self.splitIp(s[sum(x[:k+1]):],k,i)):\n",
    "                    i += 1 \n",
    "            if i == 4:\n",
    "                x[k] = 0\n",
    "                k -= 1\n",
    "                if k < 0:\n",
    "                    break\n",
    "                else:\n",
    "                    i = x[k]+1\n",
    "                    x[k] = 0\n",
    "            else:\n",
    "                x[k] = i\n",
    "                if k == 3:\n",
    "                    if sum(x) == len(s):\n",
    "                        IP_list.append(self.List2IpAddresse(s,x))\n",
    "                        x[k] = 0\n",
    "                        k -= 1\n",
    "                        i = x[k]+1\n",
    "                        x[k] = 0\n",
    "                else:\n",
    "                    k += 1\n",
    "                    i = 1\n",
    "        return IP_list"
   ]
  },
  {
   "cell_type": "code",
   "execution_count": 60,
   "metadata": {
    "collapsed": false
   },
   "outputs": [
    {
     "name": "stdout",
     "output_type": "stream",
     "text": [
      "['255.255.11.135', '255.255.111.35']\n",
      "['0.10.0.10', '0.100.1.0']\n"
     ]
    }
   ],
   "source": [
    "solve = Solution()\n",
    "print solve.restoreIpAddresses(\"25525511135\")\n",
    "#print solve.restoreIpAddresses(\"25625252\")\n",
    "print solve.restoreIpAddresses(\"010010\")\n"
   ]
  },
  {
   "cell_type": "markdown",
   "metadata": {
    "collapsed": false
   },
   "source": [
    "#25. Reverse Nodes in k-Group\n",
    "\n",
    "Given a linked list, reverse the nodes of a linked list k at a time and return its modified list.\n",
    "\n",
    "If the number of nodes is not a multiple of k then left-out nodes in the end should remain as it is.\n",
    "\n",
    "You may not alter the values in the nodes, only nodes itself may be changed.\n",
    "\n",
    "Only constant memory is allowed.\n",
    "\n",
    "For example,\n",
    "Given this linked list: 1->2->3->4->5\n",
    "\n",
    "For k = 2, you should return: 2->1->4->3->5\n",
    "\n",
    "For k = 3, you should return: 3->2->1->4->5\n"
   ]
  },
  {
   "cell_type": "code",
   "execution_count": 20,
   "metadata": {
    "collapsed": true
   },
   "outputs": [],
   "source": [
    "# Definition for singly-linked list.\n",
    "class ListNode(object):\n",
    "    def __init__(self, x):\n",
    "        self.val = x\n",
    "        self.next = None\n",
    "\n",
    "class Solution(object):\n",
    "    def reverse(self,head,k):\n",
    "        tail = head\n",
    "        i = 1\n",
    "        while i < k:\n",
    "            head_tmp = tail.next\n",
    "            tail.next = head_tmp.next\n",
    "            head_tmp.next = head\n",
    "            head = head_tmp\n",
    "            i += 1\n",
    "            if tail.next == None and i < k:\n",
    "                return self.reverse(head,i)\n",
    "        return head,tail\n",
    "    \n",
    "    def reverseKGroup(self, head, k):\n",
    "        \"\"\"\n",
    "        :type head: ListNode\n",
    "        :type k: int\n",
    "        :rtype: ListNode\n",
    "        \"\"\"\n",
    "        if head == None or head.next == None:\n",
    "            return head\n",
    "        head,tail = self.reverse(head,k)\n",
    "        while tail.next != None and tail.next.next != None:\n",
    "            head_tmp,tail_tmp = self.reverse(tail.next,k)\n",
    "            tail.next = head_tmp\n",
    "            tail = tail_tmp\n",
    "        return head\n",
    "            \n",
    "        "
   ]
  },
  {
   "cell_type": "code",
   "execution_count": 21,
   "metadata": {
    "collapsed": false
   },
   "outputs": [
    {
     "name": "stdout",
     "output_type": "stream",
     "text": [
      "1 2 3 \n",
      "\n",
      "2 1 3\n"
     ]
    }
   ],
   "source": [
    "def creatListNode(li):\n",
    "    if len(li) > 0:\n",
    "        head = ListNode(li[0])\n",
    "    else:\n",
    "        head = ListNode(None)\n",
    "        return head\n",
    "    tmp = head\n",
    "    for x in li[1:]:\n",
    "        tmp.next = ListNode(x)\n",
    "        tmp = tmp.next\n",
    "    return head\n",
    "\n",
    "def printListNode(head):\n",
    "    while head != None:\n",
    "        print head.val,\n",
    "        head = head.next\n",
    "\n",
    "h = creatListNode([1,2,3])\n",
    "#h = creatListNode([])\n",
    "printListNode(h)\n",
    "print '\\n'\n",
    "solve = Solution()\n",
    "h1 = solve.reverseKGroup(h,2)\n",
    "printListNode(h1)\n",
    "        "
   ]
  },
  {
   "cell_type": "markdown",
   "metadata": {
    "collapsed": false
   },
   "source": [
    "#222. Count Complete Tree Nodes\n",
    "Given a complete binary tree, count the number of nodes.\n",
    "\n",
    "Definition of a complete binary tree from Wikipedia:\n",
    "In a complete binary tree every level, except possibly the last, is completely filled, and all nodes in the last level are as far left as possible. It can have between 1 and 2h nodes inclusive at the last level h."
   ]
  },
  {
   "cell_type": "code",
   "execution_count": 10,
   "metadata": {
    "collapsed": false
   },
   "outputs": [],
   "source": [
    "# Definition for a binary tree node.\n",
    "class TreeNode(object):\n",
    "    def __init__(self, x):\n",
    "        self.val = x\n",
    "        self.left = None\n",
    "        self.right = None\n",
    "\n",
    "class Solution(object):\n",
    "    def CTreeHigh(self,root):\n",
    "        high = 0\n",
    "        while root:\n",
    "            high += 1\n",
    "            root = root.left\n",
    "        return high\n",
    " \n",
    "    def countNodes(self, root):\n",
    "        \"\"\"\n",
    "        :type root: TreeNode\n",
    "        :rtype: int\n",
    "        \"\"\"\n",
    "        node_sum = 0\n",
    "        if root and root.left:\n",
    "            H_left = self.CTreeHigh(root.left)\n",
    "        while root:\n",
    "            if root.left == None:\n",
    "                node_sum += 1\n",
    "                break\n",
    "            elif root.right == None:\n",
    "                node_sum += 2\n",
    "                break\n",
    "            if root and root.right:\n",
    "                H_right = self.CTreeHigh(root.right)\n",
    "            if H_left > H_right:\n",
    "                node_sum += 2**H_right\n",
    "                H_left -= 1\n",
    "                root = root.left\n",
    "            else:\n",
    "                node_sum += 2**H_left\n",
    "                H_left = H_right - 1\n",
    "                root = root.right\n",
    "        return node_sum"
   ]
  },
  {
   "cell_type": "code",
   "execution_count": 11,
   "metadata": {
    "collapsed": false
   },
   "outputs": [
    {
     "name": "stdout",
     "output_type": "stream",
     "text": [
      "126\n"
     ]
    }
   ],
   "source": [
    "def buildCTree(nodes):\n",
    "    if nodes:\n",
    "        root = TreeNode(nodes.pop(0))\n",
    "        mid = (len(nodes)+1)/2\n",
    "        root.left = buildCTree(nodes[:mid])\n",
    "        root.right = buildCTree(nodes[mid:])\n",
    "        return root\n",
    "    else:\n",
    "        return None\n",
    "\n",
    "root = buildCTree(range(100))\n",
    "\n",
    "solve = Solution()\n",
    "sum_n = solve.countNodes(root)\n",
    "print sum_n"
   ]
  },
  {
   "cell_type": "markdown",
   "metadata": {
    "collapsed": true
   },
   "source": [
    "#23. Merge k Sorted Lists My Submissions Question\n",
    "\n",
    "\n",
    "Merge k sorted linked lists and return it as one sorted list. Analyze and describe its complexity.\n"
   ]
  },
  {
   "cell_type": "code",
   "execution_count": 21,
   "metadata": {
    "collapsed": true
   },
   "outputs": [],
   "source": [
    "# Definition for singly-linked list.\n",
    "class ListNode(object):\n",
    "    def __init__(self, x):\n",
    "        self.val = x\n",
    "        self.next = None\n",
    "\n",
    "class Solution(object):\n",
    "    def mergeTwoLists(self,ListNode1,ListNode2):\n",
    "        mergedListHead = ListNode(0)\n",
    "        tmpnode = mergedListHead\n",
    "        while ListNode1 and ListNode2:\n",
    "            if ListNode1.val > ListNode2.val:\n",
    "                tmpnode.next = ListNode2\n",
    "                ListNode2 = ListNode2.next\n",
    "            else:\n",
    "                tmpnode.next = ListNode1\n",
    "                ListNode1 = ListNode1.next\n",
    "            tmpnode = tmpnode.next\n",
    "        if ListNode1:\n",
    "            tmpnode.next = ListNode1\n",
    "        else:\n",
    "            tmpnode.next = ListNode2\n",
    "        return mergedListHead.next\n",
    "                \n",
    "    def mergeKLists(self, lists):\n",
    "        \"\"\"\n",
    "        :type lists: List[ListNode]\n",
    "        :rtype: ListNode\n",
    "        \"\"\"\n",
    "        if len(lists) < 1:\n",
    "            return None\n",
    "        while len(lists) > 1:\n",
    "            ListNode1 = lists.pop(0)\n",
    "            ListNode2 = lists.pop(0)\n",
    "            lists.append(self.mergeTwoLists(ListNode1,ListNode2))\n",
    "        return lists.pop(0)\n",
    "        "
   ]
  },
  {
   "cell_type": "code",
   "execution_count": 43,
   "metadata": {
    "collapsed": false
   },
   "outputs": [],
   "source": [
    "# Definition for singly-linked list.\n",
    "class ListNode(object):\n",
    "    def __init__(self, x):\n",
    "        self.val = x\n",
    "        self.next = None\n",
    "        \n",
    "import heapq\n",
    "\n",
    "class Solution(object):\n",
    "    def mergeKLists(self, lists):\n",
    "        \"\"\"\n",
    "        :type lists: List[ListNode]\n",
    "        :rtype: ListNode\n",
    "        \"\"\"\n",
    "        if len(lists) < 1:\n",
    "            return None\n",
    "        heap = [(node.val,node) for node in lists]\n",
    "        heapq.heapify(heap)\n",
    "        meageListHead = ListNode(0)\n",
    "        tmp = meageListHead\n",
    "        while heap:\n",
    "            val,node = heapq.heappop(heap)\n",
    "            tmp.next = node\n",
    "            tmp = tmp.next\n",
    "            if node.next:\n",
    "                heapq.heappush(heap,(node.next.val,node.next))\n",
    "\n",
    "        return meageListHead.next"
   ]
  },
  {
   "cell_type": "code",
   "execution_count": 37,
   "metadata": {
    "collapsed": false
   },
   "outputs": [
    {
     "name": "stdout",
     "output_type": "stream",
     "text": [
      "2 5 8 \n"
     ]
    }
   ],
   "source": [
    "def builtSortedList(SortedList):\n",
    "    head = ListNode(0)\n",
    "    tmpnode = head\n",
    "    for val in SortedList:\n",
    "        tmpnode.next = ListNode(val)\n",
    "        tmpnode = tmpnode.next\n",
    "    return head.next\n",
    "\n",
    "def printSortedList(SortedListNode):\n",
    "    while SortedListNode:\n",
    "        print SortedListNode.val,\n",
    "        SortedListNode = SortedListNode.next\n",
    "    print ''\n",
    "        \n",
    "sortedList = builtSortedList([2,5,8])\n",
    "printSortedList(sortedList)"
   ]
  },
  {
   "cell_type": "code",
   "execution_count": 38,
   "metadata": {
    "collapsed": false
   },
   "outputs": [
    {
     "name": "stdout",
     "output_type": "stream",
     "text": [
      "5 11 18 20 22 28 \n",
      "4 14 14 21 25 25 \n",
      "1 1 1 10 20 22 22 \n",
      "4 13 19 29 37 38 42 \n",
      "4 11 16 17 \n"
     ]
    }
   ],
   "source": [
    "import random\n",
    "def buiktKsortedLists(k = 5):\n",
    "    sortedLists = []\n",
    "    for i in range(k):\n",
    "        sortList = []\n",
    "        lenth = random.randint(2, 10)\n",
    "        val = 0\n",
    "        for j in range(lenth):\n",
    "            val += random.randint(0, 10)\n",
    "            sortList.append(val)\n",
    "        sortedLists.append(builtSortedList(sortList))\n",
    "    return sortedLists\n",
    "\n",
    "sortedLists = buiktKsortedLists()\n",
    "for listNode in sortedLists:\n",
    "    printSortedList(listNode)"
   ]
  },
  {
   "cell_type": "code",
   "execution_count": 44,
   "metadata": {
    "collapsed": false
   },
   "outputs": [
    {
     "name": "stdout",
     "output_type": "stream",
     "text": [
      "1 1 1 4 4 4 5 10 11 11 13 14 14 16 17 18 19 20 20 21 22 22 22 25 25 28 29 37 38 42 \n"
     ]
    }
   ],
   "source": [
    "solve = Solution()\n",
    "MergedList = solve.mergeKLists(sortedLists)\n",
    "printSortedList(MergedList)"
   ]
  },
  {
   "cell_type": "code",
   "execution_count": 29,
   "metadata": {
    "collapsed": false
   },
   "outputs": [
    {
     "name": "stdout",
     "output_type": "stream",
     "text": [
      "[None, None, None]\n"
     ]
    }
   ],
   "source": [
    "a = [None,None,None]\n",
    "print a"
   ]
  },
  {
   "cell_type": "code",
   "execution_count": null,
   "metadata": {
    "collapsed": true
   },
   "outputs": [],
   "source": []
  }
 ],
 "metadata": {
  "kernelspec": {
   "display_name": "Python 2",
   "language": "python",
   "name": "python2"
  },
  "language_info": {
   "codemirror_mode": {
    "name": "ipython",
    "version": 2
   },
   "file_extension": ".py",
   "mimetype": "text/x-python",
   "name": "python",
   "nbconvert_exporter": "python",
   "pygments_lexer": "ipython2",
   "version": "2.7.10"
  }
 },
 "nbformat": 4,
 "nbformat_minor": 0
}
