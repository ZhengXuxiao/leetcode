{
 "cells": [
  {
   "cell_type": "markdown",
   "metadata": {},
   "source": [
    "41. First Missing Positive\n",
    "\n",
    "Given an unsorted integer array, find the first missing positive integer.\n",
    "\n",
    "For example,\n",
    "Given [1,2,0] return 3,\n",
    "and [3,4,-1,1] return 2.\n",
    "\n",
    "Your algorithm should run in O(n) time and uses constant space.\n"
   ]
  },
  {
   "cell_type": "code",
   "execution_count": 5,
   "metadata": {
    "collapsed": false
   },
   "outputs": [],
   "source": [
    "class Solution(object):\n",
    "    def firstMissingPositive(self, nums):\n",
    "        \"\"\"\n",
    "        :type nums: List[int]\n",
    "        :rtype: int\n",
    "        \"\"\"\n",
    "        j = len(nums)\n",
    "        i = 0\n",
    "        loc = -1\n",
    "        while i < j:\n",
    "            if nums[i] <= 0 or nums[i] > j:\n",
    "                nums.pop(i)\n",
    "                j -= 1\n",
    "            else:   \n",
    "                l = nums[i] - 1\n",
    "                if i+1 == nums[i]:\n",
    "                    i += 1\n",
    "                else:\n",
    "                    if nums[l] == nums[i]:\n",
    "                        nums[i] = nums[j-1]\n",
    "                        nums.pop(j-1)\n",
    "                        j -= 1\n",
    "                    else:\n",
    "                        num[l],num[i] = nums[i],nums[l]\n",
    "#                        tmp = nums[l]\n",
    "#                        nums[l] = nums[i]\n",
    "#                        nums[i] = tmp\n",
    "        return i+1"
   ]
  },
  {
   "cell_type": "code",
   "execution_count": 6,
   "metadata": {
    "collapsed": false
   },
   "outputs": [
    {
     "name": "stdout",
     "output_type": "stream",
     "text": [
      "[1, 2, 0]\n",
      "[1, 2, 0]\n",
      "[1, 2]\n",
      "3\n",
      "[1, 1]\n",
      "[1]\n",
      "2\n",
      "[-1, 4, 3, 1]\n",
      "[4, 3, 1]\n",
      "[3, 1]\n",
      "[1]\n",
      "[1]\n",
      "2\n"
     ]
    }
   ],
   "source": [
    "solve = Solution()\n",
    "print solve.firstMissingPositive([1,2,0])\n",
    "print solve.firstMissingPositive([1,1])\n",
    "print solve.firstMissingPositive([3,4,-1,1])"
   ]
  },
  {
   "cell_type": "markdown",
   "metadata": {
    "collapsed": true
   },
   "source": [
    "93. Restore IP Addresses\n",
    "\n",
    "Given a string containing only digits, restore it by returning all possible valid IP address combinations.\n",
    "\n",
    "For example:\n",
    "Given \"25525511135\",\n",
    "\n",
    "return [\"255.255.11.135\", \"255.255.111.35\"]. (Order does not matter)"
   ]
  },
  {
   "cell_type": "code",
   "execution_count": 57,
   "metadata": {
    "collapsed": true
   },
   "outputs": [],
   "source": [
    "#import copy\n",
    "class Solution(object):\n",
    "    def splitIp(self,s,k,i):\n",
    "        n = 3-k\n",
    "        s_len = len(s)\n",
    "        max_digits = 3 if s_len-3 > n else s_len-n\n",
    "        min_digits = 1 if s_len-1 < 3*n else s_len-3*n\n",
    "#        print i,min_digits,max_digits,int(s[:i]),s\n",
    "        if i >= min_digits and i <= max_digits and int(s[:i]) <= 255:\n",
    "            if s[0] == '0' and len(s[:i]) > 1:\n",
    "                return False\n",
    "            else:\n",
    "                return True\n",
    "        else:\n",
    "            return False\n",
    "        \n",
    "    def List2IpAddresse(self,s,IP_digits):\n",
    "        IpAddresse = ''\n",
    "        start = 0\n",
    "        for interval in IP_digits:\n",
    "            IpAddresse += str(s[start:start+interval]) + '.'\n",
    "            start += interval\n",
    "        return IpAddresse[:-1]\n",
    "\n",
    "    def restoreIpAddresses(self, s):\n",
    "        \"\"\"\n",
    "        :type s: str\n",
    "        :rtype: List[str]\n",
    "        \"\"\"\n",
    "        k = 0\n",
    "        x = [0,0,0,0]\n",
    "        IP_list = []\n",
    "        i = 1\n",
    "        while k >= 0:\n",
    "            while i < 4 and (not self.splitIp(s[sum(x[:k+1]):],k,i)):\n",
    "                    i += 1 \n",
    "            if i == 4:\n",
    "                x[k] = 0\n",
    "                k -= 1\n",
    "                if k < 0:\n",
    "                    break\n",
    "                else:\n",
    "                    i = x[k]+1\n",
    "                    x[k] = 0\n",
    "            else:\n",
    "                x[k] = i\n",
    "                if k == 3:\n",
    "                    if sum(x) == len(s):\n",
    "                        IP_list.append(self.List2IpAddresse(s,x))\n",
    "                        x[k] = 0\n",
    "                        k -= 1\n",
    "                        i = x[k]+1\n",
    "                        x[k] = 0\n",
    "                else:\n",
    "                    k += 1\n",
    "                    i = 1\n",
    "        return IP_list"
   ]
  },
  {
   "cell_type": "code",
   "execution_count": 60,
   "metadata": {
    "collapsed": false
   },
   "outputs": [
    {
     "name": "stdout",
     "output_type": "stream",
     "text": [
      "['255.255.11.135', '255.255.111.35']\n",
      "['0.10.0.10', '0.100.1.0']\n"
     ]
    }
   ],
   "source": [
    "solve = Solution()\n",
    "print solve.restoreIpAddresses(\"25525511135\")\n",
    "#print solve.restoreIpAddresses(\"25625252\")\n",
    "print solve.restoreIpAddresses(\"010010\")\n"
   ]
  },
  {
   "cell_type": "code",
   "execution_count": 59,
   "metadata": {
    "collapsed": false
   },
   "outputs": [
    {
     "ename": "AttributeError",
     "evalue": "'str' object has no attribute 'startwith'",
     "output_type": "error",
     "traceback": [
      "\u001b[1;31m---------------------------------------------------------------------------\u001b[0m",
      "\u001b[1;31mAttributeError\u001b[0m                            Traceback (most recent call last)",
      "\u001b[1;32m<ipython-input-59-0da3b6cf4c3b>\u001b[0m in \u001b[0;36m<module>\u001b[1;34m()\u001b[0m\n\u001b[0;32m      1\u001b[0m \u001b[1;33m\u001b[0m\u001b[0m\n\u001b[1;32m----> 2\u001b[1;33m \u001b[1;32mprint\u001b[0m \u001b[1;34m'dasdasdad'\u001b[0m\u001b[1;33m.\u001b[0m\u001b[0mstartwith\u001b[0m\u001b[1;33m(\u001b[0m\u001b[1;34m'da'\u001b[0m\u001b[1;33m)\u001b[0m\u001b[1;33m\u001b[0m\u001b[0m\n\u001b[0m",
      "\u001b[1;31mAttributeError\u001b[0m: 'str' object has no attribute 'startwith'"
     ]
    }
   ],
   "source": [
    "\n",
    "print 'dasdasdad'.startwith('da')"
   ]
  },
  {
   "cell_type": "code",
   "execution_count": null,
   "metadata": {
    "collapsed": true
   },
   "outputs": [],
   "source": []
  }
 ],
 "metadata": {
  "kernelspec": {
   "display_name": "Python 2",
   "language": "python",
   "name": "python2"
  },
  "language_info": {
   "codemirror_mode": {
    "name": "ipython",
    "version": 2
   },
   "file_extension": ".py",
   "mimetype": "text/x-python",
   "name": "python",
   "nbconvert_exporter": "python",
   "pygments_lexer": "ipython2",
   "version": "2.7.10"
  }
 },
 "nbformat": 4,
 "nbformat_minor": 0
}
